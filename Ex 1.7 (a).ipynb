# -*- coding: utf-8 -*-
"""
Created on Thu Sep 15 10:23:38 2022

@author: Admin
"""

import matplotlib.pyplot as plt
import numpy as np
import scipy.io
import collections as cl
plt.rcParams['figure.figsize'] = [8, 8]
plt.rcParams.update({'font.size': 18})



#(a)
fluid_mat=scipy.io.loadmat('VORTALL.mat')

X=fluid_mat['VORTALL']
U, S, VT=np.linalg.svd(X,full_matrices=0)

#plot singular value spectrum
fig1, ax1=plt.subplots(1)
ax1.semilogy(S,'-o', color='g', linewidth=2)
plt.title('Singular value')
plt.show()
print(U.shape[0])


#plot leading 10 singular vectors
fig2, ax2=plt.subplots(1,15)
for k in range(15):
    V=np.reshape(U[:,k],(449,199))
    ax2[k].imshow(V)
    ax2[k].axis('off')
plt.set_cmap("gist_rainbow")
plt.show()












